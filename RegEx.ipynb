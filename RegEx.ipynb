{
  "nbformat": 4,
  "nbformat_minor": 0,
  "metadata": {
    "colab": {
      "provenance": [],
      "collapsed_sections": [],
      "authorship_tag": "ABX9TyNO//26/Gml1T21nUqkY2a0",
      "include_colab_link": true
    },
    "kernelspec": {
      "name": "python3",
      "display_name": "Python 3"
    },
    "language_info": {
      "name": "python"
    }
  },
  "cells": [
    {
      "cell_type": "markdown",
      "metadata": {
        "id": "view-in-github",
        "colab_type": "text"
      },
      "source": [
        "<a href=\"https://colab.research.google.com/github/Vasilevykh-M/RegEx-Python/blob/main/RegEx.ipynb\" target=\"_parent\"><img src=\"https://colab.research.google.com/assets/colab-badge.svg\" alt=\"Open In Colab\"/></a>"
      ]
    },
    {
      "cell_type": "code",
      "execution_count": null,
      "metadata": {
        "id": "D-bC88RfQpsk"
      },
      "outputs": [],
      "source": [
        "import re\n",
        "dict_romain_num = {'M': 1000, 'D':500, 'C': 100, 'L': 50, 'X': 10, 'V': 5, 'I': 1}"
      ]
    },
    {
      "cell_type": "code",
      "source": [
        "def convert_romain_to_arabic(ranks_num):\n",
        "  list_num_ranks=[]\n",
        "  for num in ranks_num:\n",
        "    if(num!=''):\n",
        "      s=0\n",
        "      old_n = -1\n",
        "      cur_n = old_n\n",
        "      for j in num:\n",
        "        cur_n = dict_romain_num[j]\n",
        "        if old_n == -1:\n",
        "          old_n = cur_n\n",
        "        if old_n < cur_n:\n",
        "          s-=cur_n\n",
        "          s=abs(s)\n",
        "        else:\n",
        "          s+=cur_n\n",
        "      list_num_ranks.append(s)\n",
        "      print(\"Convert: {0} to: {1}\".format(num, s))\n",
        "  return(sum(list_num_ranks))"
      ],
      "metadata": {
        "id": "gMjZtWy4QsFf"
      },
      "execution_count": null,
      "outputs": []
    },
    {
      "cell_type": "code",
      "source": [
        "def repl(m):\n",
        "  groups = m.groups()\n",
        "  return str(convert_romain_to_arabic(groups))"
      ],
      "metadata": {
        "id": "i7Yhn-6jQuEN"
      },
      "execution_count": null,
      "outputs": []
    },
    {
      "cell_type": "code",
      "source": [
        "text = r'C MMM CMXLIV CML D hello'\n",
        "new_text = text\n",
        "res = re.sub(r'\\b((?=[IVXLCDM])M{0,3})(CM|CD|D?C{0,3})(XC|XL|L?X{0,3})(IX|IV|V{0,3})\\b', repl, text)\n",
        "print(res)"
      ],
      "metadata": {
        "id": "85B7RWq6QvGz"
      },
      "execution_count": null,
      "outputs": []
    }
  ]
}